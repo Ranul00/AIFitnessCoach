{
 "cells": [
  {
   "cell_type": "code",
   "execution_count": 1,
   "metadata": {},
   "outputs": [],
   "source": [
    "# Data visualization\n",
    "import numpy as np\n",
    "import pandas as pd \n",
    "\n",
    "# Keras\n",
    "from keras.models import Sequential\n",
    "from keras.layers import Dense\n",
    "from keras.layers import Dropout\n",
    "from keras.optimizers import Adam\n",
    "from keras.utils.np_utils import to_categorical\n",
    "from keras.callbacks import EarlyStopping, TensorBoard\n",
    "import keras_tuner as kt\n",
    "from sklearn.metrics import accuracy_score\n",
    "from keras.optimizers import RMSprop\n",
    "\n",
    "\n",
    "# Train-Test\n",
    "from sklearn.model_selection import train_test_split\n",
    "# Classification Report\n",
    "from sklearn.metrics import confusion_matrix, precision_recall_fscore_support\n",
    "\n",
    "import pickle\n",
    "\n",
    "import warnings\n",
    "warnings.filterwarnings('ignore')"
   ]
  },
  {
   "cell_type": "code",
   "execution_count": 2,
   "metadata": {},
   "outputs": [],
   "source": [
    "# Determine important landmarks for Bicep Curl\n",
    "IMPORTANT_LMS = [\n",
    "    \"NOSE\",\n",
    "    \"LEFT_SHOULDER\",\n",
    "    \"RIGHT_SHOULDER\",\n",
    "    \"RIGHT_ELBOW\",\n",
    "    \"LEFT_ELBOW\",\n",
    "    \"RIGHT_WRIST\",\n",
    "    \"LEFT_WRIST\",\n",
    "    \"LEFT_HIP\",\n",
    "    \"RIGHT_HIP\",\n",
    "]\n",
    "\n",
    "# Generate all columns of the data frame\n",
    "\n",
    "HEADERS = [\"label\"] # Label column\n",
    "\n",
    "for lm in IMPORTANT_LMS:\n",
    "    HEADERS += [f\"{lm.lower()}_x\", f\"{lm.lower()}_y\", f\"{lm.lower()}_z\", f\"{lm.lower()}_v\"]"
   ]
  },
  {
   "cell_type": "code",
   "execution_count": 3,
   "metadata": {},
   "outputs": [],
   "source": [
    "def describe_dataset(dataset_path: str):\n",
    "    '''\n",
    "    Describe dataset\n",
    "    '''\n",
    "\n",
    "    data = pd.read_csv(dataset_path)\n",
    "    print(f\"Headers: {list(data.columns.values)}\")\n",
    "    print(f'Number of rows: {data.shape[0]} \\nNumber of columns: {data.shape[1]}\\n')\n",
    "    print(f\"Labels: \\n{data['label'].value_counts()}\\n\")\n",
    "    print(f\"Missing values: {data.isnull().values.any()}\\n\")\n",
    "    \n",
    "    duplicate = data[data.duplicated()]\n",
    "    print(f\"Duplicate Rows : {len(duplicate.sum(axis=1))}\")\n",
    "\n",
    "    return data\n",
    "\n",
    "\n",
    "# Remove duplicate rows (optional)\n",
    "def remove_duplicate_rows(dataset_path: str):\n",
    "    '''\n",
    "    Remove duplicated data from the dataset then save it to another files\n",
    "    '''\n",
    "    \n",
    "    df = pd.read_csv(dataset_path)\n",
    "    df.drop_duplicates(keep=\"first\", inplace=True)\n",
    "    df.to_csv(f\"cleaned_train.csv\", sep=',', encoding='utf-8', index=False)\n",
    "\n",
    "\n",
    "def round_up_metric_results(results) -> list:\n",
    "    '''Round up metrics results such as precision score, recall score, ...'''\n",
    "    return list(map(lambda el: round(el, 3), results))"
   ]
  },
  {
   "cell_type": "code",
   "execution_count": 4,
   "metadata": {},
   "outputs": [
    {
     "name": "stdout",
     "output_type": "stream",
     "text": [
      "Headers: ['label', 'nose_x', 'nose_y', 'nose_z', 'nose_v', 'left_shoulder_x', 'left_shoulder_y', 'left_shoulder_z', 'left_shoulder_v', 'right_shoulder_x', 'right_shoulder_y', 'right_shoulder_z', 'right_shoulder_v', 'right_elbow_x', 'right_elbow_y', 'right_elbow_z', 'right_elbow_v', 'left_elbow_x', 'left_elbow_y', 'left_elbow_z', 'left_elbow_v', 'right_wrist_x', 'right_wrist_y', 'right_wrist_z', 'right_wrist_v', 'left_wrist_x', 'left_wrist_y', 'left_wrist_z', 'left_wrist_v', 'left_hip_x', 'left_hip_y', 'left_hip_z', 'left_hip_v', 'right_hip_x', 'right_hip_y', 'right_hip_z', 'right_hip_v']\n",
      "Number of rows: 15372 \n",
      "Number of columns: 37\n",
      "\n",
      "Labels: \n",
      "C    8238\n",
      "L    7134\n",
      "Name: label, dtype: int64\n",
      "\n",
      "Missing values: False\n",
      "\n",
      "Duplicate Rows : 0\n"
     ]
    }
   ],
   "source": [
    "# load dataset\n",
    "df = describe_dataset(\"./train.csv\")\n",
    "\n",
    "# Categorizing label\n",
    "df.loc[df[\"label\"] == \"C\", \"label\"] = 0\n",
    "\n",
    "df.loc[df[\"label\"] == \"L\", \"label\"] = 1"
   ]
  },
  {
   "cell_type": "code",
   "execution_count": 5,
   "metadata": {},
   "outputs": [],
   "source": [
    "with open(\"./model/input_scaler.pkl\", \"rb\") as f:\n",
    "    sc = pickle.load(f)"
   ]
  },
  {
   "cell_type": "code",
   "execution_count": 6,
   "metadata": {},
   "outputs": [],
   "source": [
    "# Standard Scaling of features\n",
    "x = df.drop(\"label\", axis = 1)\n",
    "x = pd.DataFrame(sc.transform(x))\n",
    "\n",
    "y = df[\"label\"]\n",
    "\n",
    "# # Converting prediction to categorical\n",
    "y_cat = to_categorical(y)"
   ]
  },
  {
   "cell_type": "code",
   "execution_count": 7,
   "metadata": {},
   "outputs": [],
   "source": [
    "x_train, x_test, y_train, y_test = train_test_split(x.values, y_cat, test_size=0.2, random_state=1234)"
   ]
  },
  {
   "attachments": {},
   "cell_type": "markdown",
   "metadata": {},
   "source": [
    "Model"
   ]
  },
  {
   "cell_type": "code",
   "execution_count": 8,
   "metadata": {},
   "outputs": [],
   "source": [
    "stop_early = EarlyStopping(monitor='val_loss', patience=3)\n",
    "\n",
    "# Final Results\n",
    "final_models = {}"
   ]
  },
  {
   "cell_type": "code",
   "execution_count": 9,
   "metadata": {},
   "outputs": [],
   "source": [
    "def describe_model(model):\n",
    "    '''\n",
    "    Describe Model architecture\n",
    "    '''\n",
    "    print(f\"Describe models architecture\")\n",
    "    for i, layer in enumerate(model.layers):\n",
    "        number_of_units = layer.units if hasattr(layer, 'units') else 0\n",
    "\n",
    "        if hasattr(layer, \"activation\"):\n",
    "            print(f\"Layer-{i + 1}: {number_of_units} units, func: \", layer.activation)\n",
    "        else:\n",
    "            print(f\"Layer-{i + 1}: {number_of_units} units, func: None\")\n",
    "\n",
    "\n",
    "def get_best_model(tuner):\n",
    "    '''\n",
    "    Describe and return the best model found from keras tuner\n",
    "    '''\n",
    "    best_hps = tuner.get_best_hyperparameters(num_trials=1)[0]\n",
    "    best_model = tuner.hypermodel.build(best_hps)\n",
    "\n",
    "    describe_model(best_model)\n",
    "\n",
    "    print(\"\\nOther params:\")\n",
    "    ignore_params = [\"tuner\", \"activation\", \"layer\", \"epoch\"]\n",
    "    for param, value in best_hps.values.items():\n",
    "        if not any(word in param for word in ignore_params):\n",
    "            print(f\"{param}: {value}\")\n",
    "\n",
    "    return best_model"
   ]
  },
  {
   "attachments": {},
   "cell_type": "markdown",
   "metadata": {},
   "source": [
    "Model - 3 Layers"
   ]
  },
  {
   "cell_type": "code",
   "execution_count": 10,
   "metadata": {},
   "outputs": [],
   "source": [
    "def model_3l_builder(hp):\n",
    "    model = Sequential()\n",
    "    model.add(Dense(36, input_dim = 36, activation = \"relu\"))\n",
    "\n",
    "    hp_activation = hp.Choice('activation', values=['relu', 'tanh'])\n",
    "    hp_layer_1 = hp.Int('layer_1', min_value=32, max_value=512, step=32)\n",
    "    hp_learning_rate = hp.Choice('learning_rate', values=[1e-2, 1e-3, 1e-4])\n",
    "\n",
    "    model.add(Dense(units=hp_layer_1, activation=hp_activation))\n",
    "    model.add(Dense(2, activation = \"softmax\"))\n",
    "\n",
    "    model.compile(optimizer=Adam(learning_rate=hp_learning_rate), loss=\"categorical_crossentropy\", metrics = [\"accuracy\"])\n",
    "    \n",
    "    return model\n",
    "\n",
    "\n"
   ]
  },
  {
   "cell_type": "code",
   "execution_count": 11,
   "metadata": {},
   "outputs": [
    {
     "name": "stdout",
     "output_type": "stream",
     "text": [
      "Trial 30 Complete [00h 00m 05s]\n",
      "val_accuracy: 0.9980487823486328\n",
      "\n",
      "Best val_accuracy So Far: 0.9983739852905273\n",
      "Total elapsed time: 00h 01m 15s\n",
      "INFO:tensorflow:Oracle triggered exit\n"
     ]
    }
   ],
   "source": [
    "tuner_3l = kt.Hyperband(\n",
    "    model_3l_builder,\n",
    "    objective='val_accuracy',\n",
    "    max_epochs=10,\n",
    "    directory='keras_tuner_dir',\n",
    "    project_name='keras_tuner_demo',\n",
    ")\n",
    "tuner_3l.search(x_train, y_train, validation_data=(x_test, y_test), epochs=10, callbacks=[stop_early])"
   ]
  },
  {
   "cell_type": "code",
   "execution_count": 12,
   "metadata": {},
   "outputs": [
    {
     "name": "stdout",
     "output_type": "stream",
     "text": [
      "Describe models architecture\n",
      "Layer-1: 36 units, func:  <function relu at 0x0000018049C98AF0>\n",
      "Layer-2: 192 units, func:  <function tanh at 0x0000018049C98E50>\n",
      "Layer-3: 2 units, func:  <function softmax at 0x0000018049C980D0>\n",
      "\n",
      "Other params:\n",
      "learning_rate: 0.001\n",
      "Epoch 1/100\n",
      "1230/1230 [==============================] - 2s 1ms/step - loss: 0.0559 - accuracy: 0.9810 - val_loss: 0.0163 - val_accuracy: 0.9961\n",
      "Epoch 2/100\n",
      "1230/1230 [==============================] - 1s 1ms/step - loss: 0.0225 - accuracy: 0.9940 - val_loss: 0.0085 - val_accuracy: 0.9967\n",
      "Epoch 3/100\n",
      "1230/1230 [==============================] - 1s 1ms/step - loss: 0.0174 - accuracy: 0.9946 - val_loss: 0.0145 - val_accuracy: 0.9958\n",
      "Epoch 4/100\n",
      "1230/1230 [==============================] - 1s 1ms/step - loss: 0.0172 - accuracy: 0.9950 - val_loss: 0.0062 - val_accuracy: 0.9977\n",
      "Epoch 5/100\n",
      "1230/1230 [==============================] - 1s 1ms/step - loss: 0.0118 - accuracy: 0.9959 - val_loss: 0.0097 - val_accuracy: 0.9967\n",
      "Epoch 6/100\n",
      "1230/1230 [==============================] - 1s 1ms/step - loss: 0.0132 - accuracy: 0.9960 - val_loss: 0.0159 - val_accuracy: 0.9961\n",
      "Epoch 7/100\n",
      "1230/1230 [==============================] - 1s 1ms/step - loss: 0.0123 - accuracy: 0.9965 - val_loss: 0.0096 - val_accuracy: 0.9974\n"
     ]
    },
    {
     "data": {
      "text/plain": [
       "<keras.callbacks.History at 0x1804f59beb0>"
      ]
     },
     "execution_count": 12,
     "metadata": {},
     "output_type": "execute_result"
    }
   ],
   "source": [
    "model_3l = get_best_model(tuner_3l)\n",
    "model_3l.fit(x_train, y_train, epochs=100, batch_size=10, validation_data=(x_test, y_test), callbacks=[stop_early])"
   ]
  },
  {
   "cell_type": "code",
   "execution_count": 13,
   "metadata": {},
   "outputs": [],
   "source": [
    "model_3l.save(\"./model/3LayeredModel.h5\")"
   ]
  },
  {
   "cell_type": "code",
   "execution_count": 14,
   "metadata": {},
   "outputs": [],
   "source": [
    "final_models[\"3_layers\"] = model_3l"
   ]
  },
  {
   "attachments": {},
   "cell_type": "markdown",
   "metadata": {},
   "source": [
    "Model With 5 Layers"
   ]
  },
  {
   "cell_type": "code",
   "execution_count": 15,
   "metadata": {},
   "outputs": [],
   "source": [
    "def model_5l_builder(hp):\n",
    "    model = Sequential()\n",
    "    model.add(Dense(36, input_dim = 36, activation = \"relu\"))\n",
    "\n",
    "    hp_activation = hp.Choice('activation', values=['relu', 'tanh'])\n",
    "    hp_layer_1 = hp.Int('layer_1', min_value=32, max_value=512, step=32)\n",
    "    hp_layer_2 = hp.Int('layer_2', min_value=32, max_value=512, step=32)\n",
    "    hp_layer_3 = hp.Int('layer_3', min_value=32, max_value=512, step=32)\n",
    "    hp_learning_rate = hp.Choice('learning_rate', values=[1e-2, 1e-3, 1e-4])\n",
    "\n",
    "    model.add(Dense(units=hp_layer_1, activation=hp_activation))\n",
    "    model.add(Dense(units=hp_layer_2, activation=hp_activation))\n",
    "    model.add(Dense(units=hp_layer_3, activation=hp_activation))\n",
    "    model.add(Dense(2, activation = \"softmax\"))\n",
    "\n",
    "    model.compile(optimizer=Adam(learning_rate=hp_learning_rate), loss=\"categorical_crossentropy\", metrics = [\"accuracy\"])\n",
    "    \n",
    "    return model"
   ]
  },
  {
   "cell_type": "code",
   "execution_count": 16,
   "metadata": {},
   "outputs": [
    {
     "name": "stdout",
     "output_type": "stream",
     "text": [
      "INFO:tensorflow:Reloading Tuner from keras_tuner_dir\\keras_tuner_demo_2\\tuner0.json\n",
      "INFO:tensorflow:Oracle triggered exit\n"
     ]
    }
   ],
   "source": [
    "tuner_5l = kt.Hyperband(\n",
    "    model_5l_builder,\n",
    "    objective='val_accuracy',\n",
    "    max_epochs=10,\n",
    "    directory='keras_tuner_dir',\n",
    "    project_name='keras_tuner_demo_2'\n",
    ")\n",
    "tuner_5l.search(x_train, y_train, validation_data=(x_test, y_test), epochs=10, callbacks=[stop_early, TensorBoard(\"./keras_tuner_dir/logs\")])"
   ]
  },
  {
   "cell_type": "code",
   "execution_count": 17,
   "metadata": {},
   "outputs": [
    {
     "name": "stdout",
     "output_type": "stream",
     "text": [
      "Describe models architecture\n",
      "Layer-1: 36 units, func:  <function relu at 0x0000018049C98AF0>\n",
      "Layer-2: 384 units, func:  <function relu at 0x0000018049C98AF0>\n",
      "Layer-3: 160 units, func:  <function relu at 0x0000018049C98AF0>\n",
      "Layer-4: 32 units, func:  <function relu at 0x0000018049C98AF0>\n",
      "Layer-5: 2 units, func:  <function softmax at 0x0000018049C980D0>\n",
      "\n",
      "Other params:\n",
      "learning_rate: 0.0001\n",
      "Epoch 1/100\n",
      "1230/1230 [==============================] - 2s 1ms/step - loss: 0.1355 - accuracy: 0.9605 - val_loss: 0.0217 - val_accuracy: 0.9932\n",
      "Epoch 2/100\n",
      "1230/1230 [==============================] - 2s 1ms/step - loss: 0.0230 - accuracy: 0.9934 - val_loss: 0.0172 - val_accuracy: 0.9961\n",
      "Epoch 3/100\n",
      "1230/1230 [==============================] - 2s 1ms/step - loss: 0.0179 - accuracy: 0.9950 - val_loss: 0.0111 - val_accuracy: 0.9961\n",
      "Epoch 4/100\n",
      "1230/1230 [==============================] - 2s 1ms/step - loss: 0.0142 - accuracy: 0.9953 - val_loss: 0.0148 - val_accuracy: 0.9958\n",
      "Epoch 5/100\n",
      "1230/1230 [==============================] - 2s 1ms/step - loss: 0.0124 - accuracy: 0.9961 - val_loss: 0.0089 - val_accuracy: 0.9971\n",
      "Epoch 6/100\n",
      "1230/1230 [==============================] - 2s 1ms/step - loss: 0.0109 - accuracy: 0.9966 - val_loss: 0.0130 - val_accuracy: 0.9971\n",
      "Epoch 7/100\n",
      "1230/1230 [==============================] - 2s 1ms/step - loss: 0.0092 - accuracy: 0.9969 - val_loss: 0.0113 - val_accuracy: 0.9961\n",
      "Epoch 8/100\n",
      "1230/1230 [==============================] - 2s 1ms/step - loss: 0.0083 - accuracy: 0.9975 - val_loss: 0.0146 - val_accuracy: 0.9964\n"
     ]
    },
    {
     "data": {
      "text/plain": [
       "<keras.callbacks.History at 0x180508a38e0>"
      ]
     },
     "execution_count": 17,
     "metadata": {},
     "output_type": "execute_result"
    }
   ],
   "source": [
    "model_5l = get_best_model(tuner_5l)\n",
    "model_5l.fit(x_train, y_train, epochs=100, batch_size=10, validation_data=(x_test, y_test), callbacks=[stop_early])"
   ]
  },
  {
   "cell_type": "code",
   "execution_count": 18,
   "metadata": {},
   "outputs": [],
   "source": [
    "final_models[\"5_layers\"] = model_5l"
   ]
  },
  {
   "cell_type": "code",
   "execution_count": 19,
   "metadata": {},
   "outputs": [],
   "source": [
    "model_5l.save(\"./model/5LayeredModel.h5\")"
   ]
  },
  {
   "cell_type": "code",
   "execution_count": 20,
   "metadata": {},
   "outputs": [],
   "source": [
    "with open(\"./model/all_models.pkl\", \"wb\") as f:\n",
    "    pickle.dump(final_models, f)\n",
    "    "
   ]
  },
  {
   "cell_type": "code",
   "execution_count": 21,
   "metadata": {},
   "outputs": [],
   "source": [
    "def hybrid_model_builder(hp):\n",
    "    model = Sequential()\n",
    "    model.add(Dense(72, input_dim=36, activation='relu')) # Increase the number of neurons in the first layer\n",
    "    \n",
    "    # Add two additional dense layers\n",
    "    hp_layer_1 = hp.Int('layer_1', min_value=32, max_value=512, step=32)\n",
    "    hp_layer_2 = hp.Int('layer_2', min_value=32, max_value=512, step=32)\n",
    "    hp_layer_3 = hp.Int('layer_3', min_value=32, max_value=512, step=32)\n",
    "    hp_layer_4 = hp.Int('layer_4', min_value=32, max_value=512, step=32)\n",
    "    hp_layer_5 = hp.Int('layer_5', min_value=32, max_value=512, step=32)\n",
    "    hp_activation = hp.Choice('activation', values=['relu', 'tanh', 'sigmoid'])\n",
    "    hp_learning_rate = hp.Choice('learning_rate', values=[1e-2, 1e-3, 1e-4])\n",
    "    \n",
    "    model.add(Dense(units=hp_layer_1, activation=hp_activation))\n",
    "    model.add(Dense(units=hp_layer_2, activation=hp_activation))\n",
    "    model.add(Dense(units=hp_layer_3, activation=hp_activation))\n",
    "    model.add(Dense(units=hp_layer_4, activation=hp_activation))\n",
    "    model.add(Dense(units=hp_layer_5, activation=hp_activation))\n",
    "    \n",
    "    # Use a different optimizer and add dropout regularization\n",
    "    hp_optimizer = hp.Choice('optimizer', values=['adam', 'rmsprop'])\n",
    "    hp_dropout = hp.Float('dropout', min_value=0.0, max_value=0.5, step=0.1)\n",
    "    \n",
    "    if hp_optimizer == 'adam':\n",
    "        optimizer = Adam(learning_rate=hp_learning_rate)\n",
    "    else:\n",
    "        optimizer = RMSprop(learning_rate=hp_learning_rate)\n",
    "    \n",
    "    model.add(Dropout(rate=hp_dropout))\n",
    "    model.add(Dense(2, activation='softmax'))\n",
    "    \n",
    "    model.compile(optimizer=optimizer, loss='categorical_crossentropy', metrics=['accuracy'])\n",
    "    \n",
    "    return model\n"
   ]
  },
  {
   "cell_type": "code",
   "execution_count": 27,
   "metadata": {},
   "outputs": [],
   "source": [
    "from tensorflow.keras.layers import BatchNormalization\n",
    "\n",
    "\n",
    "def hybrid_model2_builder(hp):\n",
    "    model = Sequential()\n",
    "    model.add(Dense(72, input_dim=36, activation='relu')) # Increase the number of neurons in the first layer\n",
    "    \n",
    "    # Add five additional dense layers with batch normalization and dropout\n",
    "    hp_layer = [hp.Int('layer_' + str(i), min_value=32, max_value=512, step=32) for i in range(1, 6)]\n",
    "    hp_activation = hp.Choice('activation', values=['relu', 'tanh', 'sigmoid'])\n",
    "    hp_learning_rate = hp.Choice('learning_rate', values=[1e-2, 1e-3, 1e-4])\n",
    "    \n",
    "    for i in range(5):\n",
    "        model.add(Dense(units=hp_layer[i], activation=hp_activation))\n",
    "        model.add(BatchNormalization())\n",
    "        hp_dropout = hp.Float('dropout_' + str(i), min_value=0.0, max_value=0.5, step=0.1)\n",
    "        model.add(Dropout(rate=hp_dropout))\n",
    "    \n",
    "    # Use a different optimizer\n",
    "    hp_optimizer = hp.Choice('optimizer', values=['adam', 'rmsprop', 'sgd', 'Adagrad'])\n",
    "    \n",
    "    if hp_optimizer == 'adam':\n",
    "        optimizer = Adam(learning_rate=hp_learning_rate)\n",
    "    elif hp_optimizer == 'rmsprop':\n",
    "        optimizer = RMSprop(learning_rate=hp_learning_rate)\n",
    "    elif hp_optimizer == 'sgd':\n",
    "        optimizer = SGD(learning_rate=hp_learning_rate)\n",
    "    else:\n",
    "        optimizer = Adagrad(learning_rate=hp_learning_rate)\n",
    "    \n",
    "    model.add(Dense(2, activation='softmax'))\n",
    "    \n",
    "    model.compile(optimizer=optimizer, loss='categorical_crossentropy', metrics=['accuracy'])\n",
    "    \n",
    "    return model\n"
   ]
  },
  {
   "cell_type": "code",
   "execution_count": 28,
   "metadata": {},
   "outputs": [
    {
     "name": "stdout",
     "output_type": "stream",
     "text": [
      "INFO:tensorflow:Reloading Tuner from keras_tuner_dir\\hybrid_model_tuner\\tuner0.json\n",
      "INFO:tensorflow:Oracle triggered exit\n"
     ]
    }
   ],
   "source": [
    "tuner_hybrid = kt.Hyperband(\n",
    "    hybrid_model_builder,\n",
    "    objective='val_accuracy',\n",
    "    max_epochs=10,\n",
    "    directory='keras_tuner_dir',\n",
    "    project_name='hybrid_model_tuner'\n",
    ")\n",
    "\n",
    "tuner_hybrid.search(x_train, y_train, validation_data=(x_test, y_test), epochs=10, callbacks=[stop_early, TensorBoard('./keras_tuner_dir/logs')])\n"
   ]
  },
  {
   "cell_type": "code",
   "execution_count": 29,
   "metadata": {},
   "outputs": [
    {
     "name": "stdout",
     "output_type": "stream",
     "text": [
      "INFO:tensorflow:Reloading Tuner from keras_tuner_dir\\hybrid_model_tuner\\tuner0.json\n",
      "INFO:tensorflow:Oracle triggered exit\n"
     ]
    }
   ],
   "source": [
    "tuner_hybrid2 = kt.Hyperband(\n",
    "    hybrid_model2_builder,\n",
    "    objective='val_accuracy',\n",
    "    max_epochs=10,\n",
    "    directory='keras_tuner_dir',\n",
    "    project_name='hybrid_model_tuner'\n",
    ")\n",
    "\n",
    "tuner_hybrid2.search(x_train, y_train, validation_data=(x_test, y_test), epochs=10, callbacks=[stop_early, TensorBoard('./keras_tuner_dir/logs')])\n"
   ]
  },
  {
   "cell_type": "code",
   "execution_count": 25,
   "metadata": {},
   "outputs": [
    {
     "name": "stdout",
     "output_type": "stream",
     "text": [
      "Describe models architecture\n",
      "Layer-1: 72 units, func:  <function relu at 0x0000018049C98AF0>\n",
      "Layer-2: 192 units, func:  <function relu at 0x0000018049C98AF0>\n",
      "Layer-3: 416 units, func:  <function relu at 0x0000018049C98AF0>\n",
      "Layer-4: 320 units, func:  <function relu at 0x0000018049C98AF0>\n",
      "Layer-5: 480 units, func:  <function relu at 0x0000018049C98AF0>\n",
      "Layer-6: 32 units, func:  <function relu at 0x0000018049C98AF0>\n",
      "Layer-7: 0 units, func: None\n",
      "Layer-8: 2 units, func:  <function softmax at 0x0000018049C980D0>\n",
      "\n",
      "Other params:\n",
      "learning_rate: 0.0001\n",
      "optimizer: adam\n",
      "dropout: 0.1\n",
      "Epoch 1/100\n",
      "1230/1230 [==============================] - 3s 2ms/step - loss: 0.0750 - accuracy: 0.9765 - val_loss: 0.0145 - val_accuracy: 0.9951\n",
      "Epoch 2/100\n",
      "1230/1230 [==============================] - 3s 2ms/step - loss: 0.0207 - accuracy: 0.9939 - val_loss: 0.0107 - val_accuracy: 0.9964\n",
      "Epoch 3/100\n",
      "1230/1230 [==============================] - 3s 2ms/step - loss: 0.0151 - accuracy: 0.9955 - val_loss: 0.0081 - val_accuracy: 0.9980\n",
      "Epoch 4/100\n",
      "1230/1230 [==============================] - 3s 2ms/step - loss: 0.0125 - accuracy: 0.9963 - val_loss: 0.0077 - val_accuracy: 0.9984\n",
      "Epoch 5/100\n",
      "1230/1230 [==============================] - 3s 2ms/step - loss: 0.0091 - accuracy: 0.9969 - val_loss: 0.0070 - val_accuracy: 0.9974\n",
      "Epoch 6/100\n",
      "1230/1230 [==============================] - 3s 2ms/step - loss: 0.0075 - accuracy: 0.9978 - val_loss: 0.0070 - val_accuracy: 0.9984\n",
      "Epoch 7/100\n",
      "1230/1230 [==============================] - 3s 2ms/step - loss: 0.0067 - accuracy: 0.9980 - val_loss: 0.0074 - val_accuracy: 0.9984\n",
      "Epoch 8/100\n",
      "1230/1230 [==============================] - 3s 2ms/step - loss: 0.0059 - accuracy: 0.9978 - val_loss: 0.0089 - val_accuracy: 0.9980\n",
      "Epoch 9/100\n",
      "1230/1230 [==============================] - 3s 2ms/step - loss: 0.0053 - accuracy: 0.9979 - val_loss: 0.0076 - val_accuracy: 0.9980\n"
     ]
    },
    {
     "data": {
      "text/plain": [
       "<keras.callbacks.History at 0x18051c7a9e0>"
      ]
     },
     "execution_count": 25,
     "metadata": {},
     "output_type": "execute_result"
    }
   ],
   "source": [
    "best_hybrid_model = get_best_model(tuner_hybrid)\n",
    "best_hybrid_model.fit(x_train, y_train, epochs=100, batch_size=10, validation_data=(x_test, y_test), callbacks=[stop_early])\n",
    "\n"
   ]
  },
  {
   "cell_type": "code",
   "execution_count": 30,
   "metadata": {},
   "outputs": [
    {
     "name": "stdout",
     "output_type": "stream",
     "text": [
      "Describe models architecture\n",
      "Layer-1: 72 units, func:  <function relu at 0x0000018049C98AF0>\n",
      "Layer-2: 192 units, func:  <function relu at 0x0000018049C98AF0>\n",
      "Layer-3: 0 units, func: None\n",
      "Layer-4: 0 units, func: None\n",
      "Layer-5: 416 units, func:  <function relu at 0x0000018049C98AF0>\n",
      "Layer-6: 0 units, func: None\n",
      "Layer-7: 0 units, func: None\n",
      "Layer-8: 320 units, func:  <function relu at 0x0000018049C98AF0>\n",
      "Layer-9: 0 units, func: None\n",
      "Layer-10: 0 units, func: None\n",
      "Layer-11: 480 units, func:  <function relu at 0x0000018049C98AF0>\n",
      "Layer-12: 0 units, func: None\n",
      "Layer-13: 0 units, func: None\n",
      "Layer-14: 32 units, func:  <function relu at 0x0000018049C98AF0>\n",
      "Layer-15: 0 units, func: None\n",
      "Layer-16: 0 units, func: None\n",
      "Layer-17: 2 units, func:  <function softmax at 0x0000018049C980D0>\n",
      "\n",
      "Other params:\n",
      "learning_rate: 0.0001\n",
      "optimizer: adam\n",
      "dropout: 0.1\n",
      "dropout_0: 0.0\n",
      "dropout_1: 0.0\n",
      "dropout_2: 0.0\n",
      "dropout_3: 0.0\n",
      "dropout_4: 0.0\n",
      "Epoch 1/100\n",
      "1230/1230 [==============================] - 5s 3ms/step - loss: 0.1565 - accuracy: 0.9388 - val_loss: 0.0203 - val_accuracy: 0.9941\n",
      "Epoch 2/100\n",
      "1230/1230 [==============================] - 4s 3ms/step - loss: 0.0646 - accuracy: 0.9800 - val_loss: 0.0151 - val_accuracy: 0.9954\n",
      "Epoch 3/100\n",
      "1230/1230 [==============================] - 4s 3ms/step - loss: 0.0603 - accuracy: 0.9805 - val_loss: 0.0151 - val_accuracy: 0.9954\n",
      "Epoch 4/100\n",
      "1230/1230 [==============================] - 4s 3ms/step - loss: 0.0442 - accuracy: 0.9881 - val_loss: 0.0126 - val_accuracy: 0.9958\n",
      "Epoch 5/100\n",
      "1230/1230 [==============================] - 4s 3ms/step - loss: 0.0390 - accuracy: 0.9889 - val_loss: 0.0091 - val_accuracy: 0.9967\n",
      "Epoch 6/100\n",
      "1230/1230 [==============================] - 4s 3ms/step - loss: 0.0417 - accuracy: 0.9881 - val_loss: 0.0113 - val_accuracy: 0.9967\n",
      "Epoch 7/100\n",
      "1230/1230 [==============================] - 4s 3ms/step - loss: 0.0323 - accuracy: 0.9922 - val_loss: 0.0135 - val_accuracy: 0.9948\n",
      "Epoch 8/100\n",
      "1230/1230 [==============================] - 4s 3ms/step - loss: 0.0336 - accuracy: 0.9912 - val_loss: 0.0074 - val_accuracy: 0.9974\n",
      "Epoch 9/100\n",
      "1230/1230 [==============================] - 4s 3ms/step - loss: 0.0273 - accuracy: 0.9932 - val_loss: 0.0124 - val_accuracy: 0.9977\n",
      "Epoch 10/100\n",
      "1230/1230 [==============================] - 4s 3ms/step - loss: 0.0264 - accuracy: 0.9933 - val_loss: 0.0165 - val_accuracy: 0.9958\n",
      "Epoch 11/100\n",
      "1230/1230 [==============================] - 4s 3ms/step - loss: 0.0237 - accuracy: 0.9938 - val_loss: 0.0093 - val_accuracy: 0.9977\n"
     ]
    },
    {
     "data": {
      "text/plain": [
       "<keras.callbacks.History at 0x18053d79540>"
      ]
     },
     "execution_count": 30,
     "metadata": {},
     "output_type": "execute_result"
    }
   ],
   "source": [
    "best_hybrid_model2 = get_best_model(tuner_hybrid2)\n",
    "best_hybrid_model2.fit(x_train, y_train, epochs=100, batch_size=10, validation_data=(x_test, y_test), callbacks=[stop_early])\n",
    "\n"
   ]
  },
  {
   "cell_type": "code",
   "execution_count": 27,
   "metadata": {},
   "outputs": [],
   "source": [
    "best_hybrid_model.save(\"./model/hybrid_model.h5\")\n",
    "best_hybrid_model2.save(\"./model/hybrid_model2.h5\")"
   ]
  },
  {
   "cell_type": "code",
   "execution_count": null,
   "metadata": {},
   "outputs": [],
   "source": []
  }
 ],
 "metadata": {
  "kernelspec": {
   "display_name": "base",
   "language": "python",
   "name": "python3"
  },
  "language_info": {
   "codemirror_mode": {
    "name": "ipython",
    "version": 3
   },
   "file_extension": ".py",
   "mimetype": "text/x-python",
   "name": "python",
   "nbconvert_exporter": "python",
   "pygments_lexer": "ipython3",
   "version": "3.10.9"
  },
  "orig_nbformat": 4
 },
 "nbformat": 4,
 "nbformat_minor": 2
}
