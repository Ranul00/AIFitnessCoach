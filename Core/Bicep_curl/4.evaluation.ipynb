{
 "cells": [
  {
   "cell_type": "code",
   "execution_count": 2,
   "metadata": {},
   "outputs": [],
   "source": [
    "import mediapipe as mp\n",
    "import numpy as np\n",
    "import pandas as pd\n",
    "import pickle\n",
    "import seaborn as sns\n",
    "import matplotlib.pyplot as plt\n",
    "import tensorflow as tf\n",
    "from tensorflow import keras \n",
    "\n",
    "from sklearn.metrics import precision_score, accuracy_score, f1_score, recall_score, confusion_matrix, roc_curve, auc\n",
    "\n",
    "from keras.utils.np_utils import to_categorical\n",
    "\n",
    "import warnings\n",
    "warnings.filterwarnings('ignore')\n",
    "\n",
    "# Drawing helpers\n",
    "mp_drawing = mp.solutions.drawing_utils\n",
    "mp_pose = mp.solutions.pose"
   ]
  },
  {
   "cell_type": "markdown",
   "metadata": {},
   "source": [
    "## 1. Set ups"
   ]
  },
  {
   "cell_type": "markdown",
   "metadata": {},
   "source": [
    "### 1.1. Load models & scaler"
   ]
  },
  {
   "cell_type": "code",
   "execution_count": 3,
   "metadata": {},
   "outputs": [
    {
     "name": "stdout",
     "output_type": "stream",
     "text": [
      "Metal device set to: Apple M1 Pro\n",
      "\n",
      "systemMemory: 16.00 GB\n",
      "maxCacheSize: 5.33 GB\n",
      "\n"
     ]
    }
   ],
   "source": [
    "# Load all sklearn models\n",
    "# with open(\"./model/all_sklearn.pkl\", \"rb\") as f:\n",
    "#     sklearn_models = pickle.load(f)\n",
    "\n",
    "DL_model = keras.models.load_model('./model/hybrid_model2.h5')\n",
    "\n",
    "# Load all deep learning models\n",
    "# with open(\"./model/all_dp.pkl\", \"rb\") as f:\n",
    "#     dp_models = pickle.load(f)\n",
    "\n",
    "# Load input scaler\n",
    "with open(\"./model/input_scaler.pkl\", \"rb\") as f:\n",
    "    sc = pickle.load(f)"
   ]
  },
  {
   "cell_type": "markdown",
   "metadata": {},
   "source": [
    "### 1.2. Important functions"
   ]
  },
  {
   "cell_type": "code",
   "execution_count": 4,
   "metadata": {},
   "outputs": [],
   "source": [
    "def describe_dataset(dataset_path: str):\n",
    "    '''\n",
    "    Describe dataset\n",
    "    '''\n",
    "\n",
    "    data = pd.read_csv(dataset_path)\n",
    "    print(f\"Headers: {list(data.columns.values)}\")\n",
    "    print(f'Number of rows: {data.shape[0]} \\nNumber of columns: {data.shape[1]}\\n')\n",
    "    print(f\"Labels: \\n{data['label'].value_counts()}\\n\")\n",
    "    print(f\"Missing values: {data.isnull().values.any()}\\n\")\n",
    "    \n",
    "    duplicate = data[data.duplicated()]\n",
    "    print(f\"Duplicate Rows : {len(duplicate.sum(axis=1))}\")\n",
    "\n",
    "    return data\n",
    "\n",
    "\n",
    "def round_up_metric_results(results) -> list:\n",
    "    '''Round up metrics results such as precision score, recall score, ...'''\n",
    "    return list(map(lambda el: round(el, 3), results))"
   ]
  },
  {
   "cell_type": "markdown",
   "metadata": {},
   "source": [
    "## 2. Process Test set"
   ]
  },
  {
   "cell_type": "code",
   "execution_count": 5,
   "metadata": {},
   "outputs": [
    {
     "name": "stdout",
     "output_type": "stream",
     "text": [
      "Headers: ['label', 'nose_x', 'nose_y', 'nose_z', 'nose_v', 'left_shoulder_x', 'left_shoulder_y', 'left_shoulder_z', 'left_shoulder_v', 'right_shoulder_x', 'right_shoulder_y', 'right_shoulder_z', 'right_shoulder_v', 'right_elbow_x', 'right_elbow_y', 'right_elbow_z', 'right_elbow_v', 'left_elbow_x', 'left_elbow_y', 'left_elbow_z', 'left_elbow_v', 'right_wrist_x', 'right_wrist_y', 'right_wrist_z', 'right_wrist_v', 'left_wrist_x', 'left_wrist_y', 'left_wrist_z', 'left_wrist_v', 'left_hip_x', 'left_hip_y', 'left_hip_z', 'left_hip_v', 'right_hip_x', 'right_hip_y', 'right_hip_z', 'right_hip_v']\n",
      "Number of rows: 604 \n",
      "Number of columns: 37\n",
      "\n",
      "Labels: \n",
      "label\n",
      "C    339\n",
      "L    265\n",
      "Name: count, dtype: int64\n",
      "\n",
      "Missing values: False\n",
      "\n",
      "Duplicate Rows : 0\n"
     ]
    }
   ],
   "source": [
    "# load dataset\n",
    "test_df = describe_dataset(\"./test.csv\")\n",
    "\n",
    "# Categorizing label\n",
    "test_df.loc[test_df[\"label\"] == \"C\", \"label\"] = 0\n",
    "test_df.loc[test_df[\"label\"] == \"L\", \"label\"] = 1\n",
    "\n",
    "# Standard Scaling of features\n",
    "test_x = test_df.drop(\"label\", axis = 1)\n",
    "test_x = pd.DataFrame(sc.transform(test_x))\n",
    "\n",
    "test_y = test_df[\"label\"].astype('int')\n",
    "\n",
    "# # Converting prediction to categorical\n",
    "test_y_cat = to_categorical(test_y)"
   ]
  },
  {
   "cell_type": "markdown",
   "metadata": {},
   "source": [
    "## 2. Test set evaluation for all models"
   ]
  },
  {
   "cell_type": "markdown",
   "metadata": {},
   "source": [
    "### 2.1. Sklearn models evaluation"
   ]
  },
  {
   "cell_type": "code",
   "execution_count": 6,
   "metadata": {},
   "outputs": [],
   "source": [
    "# testset_final_results = []\n",
    "\n",
    "# for name, model in sklearn_models.items():\n",
    "#     # Evaluate model\n",
    "#     model_results = model.predict(test_x)\n",
    "\n",
    "#     p_score = precision_score(test_y, model_results, average=\"macro\")\n",
    "#     a_score = accuracy_score(test_y, model_results)\n",
    "#     r_score = recall_score(test_y, model_results, average=\"macro\")\n",
    "#     f1_score_result = f1_score(test_y, model_results, average=\"macro\")\n",
    "#     cm = confusion_matrix(test_y, model_results, labels=[0, 1])\n",
    "#     testset_final_results.append(( name,  p_score, r_score, a_score, f1_score_result, cm ))\n",
    "\n",
    "\n",
    "# sklearn_eval = pd.DataFrame(testset_final_results, columns=[\"Model\", \"Precision Score\", \"Recall Score\", \"Accuracy Score\", \"F1 Score\", \"Confusion Matrix\"])\n",
    "\n",
    "# sklearn_eval"
   ]
  },
  {
   "cell_type": "markdown",
   "metadata": {},
   "source": [
    "### 2.2. Deep learning models"
   ]
  },
  {
   "cell_type": "code",
   "execution_count": 7,
   "metadata": {},
   "outputs": [],
   "source": [
    "# test_set_results = []\n",
    "\n",
    "# for name, model in dp_models.items():\n",
    "#     # Evaluate model\n",
    "#     predict_x = model.predict(test_x, verbose=False) \n",
    "#     y_pred_class = np.argmax(predict_x, axis=1)\n",
    "#     y_test_class = np.argmax(test_y_cat, axis=1)\n",
    "\n",
    "#     cm = confusion_matrix(y_test_class, y_pred_class, labels=[0, 1])\n",
    "#     p_score = precision_score(y_test_class, y_pred_class, average=\"macro\")\n",
    "#     a_score = accuracy_score(y_test_class, y_pred_class)\n",
    "#     r_score = recall_score(y_test_class, y_pred_class, average=\"macro\")\n",
    "#     f1_score_result = f1_score(y_test_class, y_pred_class, average=\"macro\")\n",
    "    \n",
    "#     test_set_results.append(( name,  (p_score), r_score, (a_score), (f1_score_result), cm ))\n",
    "\n",
    "# dp_eval = pd.DataFrame(test_set_results, columns=[\"Model\", \"Precision Score\", \"Recall Score\", \"Accuracy Score\", \"F1 Score\", \"Confusion Matrix\"])\n",
    "\n",
    "# dp_eval"
   ]
  },
  {
   "attachments": {},
   "cell_type": "markdown",
   "metadata": {},
   "source": [
    "### DL model test"
   ]
  },
  {
   "cell_type": "code",
   "execution_count": 8,
   "metadata": {},
   "outputs": [
    {
     "name": "stderr",
     "output_type": "stream",
     "text": [
      "2023-05-10 02:11:50.361719: W tensorflow/tsl/platform/profile_utils/cpu_utils.cc:128] Failed to get CPU frequency: 0 Hz\n"
     ]
    },
    {
     "name": "stdout",
     "output_type": "stream",
     "text": [
      "p_score 0.8846824686940966\n",
      "a_score 0.8857615894039735\n",
      "r_score 0.8829910391272889\n",
      "f1_score 0.8837732691905459\n"
     ]
    }
   ],
   "source": [
    "\n",
    "\n",
    "# Evaluate model\n",
    "predict_x = DL_model.predict(test_x, verbose=False) \n",
    "y_pred_class = np.argmax(predict_x, axis=1)\n",
    "y_test_class = np.argmax(test_y_cat, axis=1)\n",
    "\n",
    "cm = confusion_matrix(y_test_class, y_pred_class, labels=[0, 1])\n",
    "p_score = precision_score(y_test_class, y_pred_class, average=\"macro\")\n",
    "a_score = accuracy_score(y_test_class, y_pred_class)\n",
    "r_score = recall_score(y_test_class, y_pred_class, average=\"macro\")\n",
    "f1_score_result = f1_score(y_test_class, y_pred_class, average=\"macro\")\n",
    "\n",
    "print(\"p_score\", p_score)\n",
    "print(\"a_score\", a_score)\n",
    "print(\"r_score\", r_score)\n",
    "print(\"f1_score\", f1_score_result)"
   ]
  },
  {
   "cell_type": "code",
   "execution_count": 9,
   "metadata": {},
   "outputs": [
    {
     "data": {
      "text/plain": [
       "<Axes: >"
      ]
     },
     "execution_count": 9,
     "metadata": {},
     "output_type": "execute_result"
    },
    {
     "data": {
      "image/png": "[encoded data removed]",
      "text/plain": [
       "<Figure size 800x400 with 2 Axes>"
      ]
     },
     "metadata": {},
     "output_type": "display_data"
    }
   ],
   "source": [
    "cm_norm = cm.astype('float') / cm.sum(axis=1)[:, np.newaxis]\n",
    "fig, ax = plt.subplots(figsize=(8,4)) \n",
    "cm_array_df = pd.DataFrame(cm_norm, index=[\"C\", \"L\"], columns=[\"C\", \"L\"])\n",
    "sns.heatmap(cm_array_df, linewidths=1, annot=True, ax=ax, fmt='g')\n",
    "\n"
   ]
  },
  {
   "cell_type": "markdown",
   "metadata": {},
   "source": [
    "### 2.3. Final Results"
   ]
  },
  {
   "cell_type": "code",
   "execution_count": 10,
   "metadata": {},
   "outputs": [],
   "source": [
    "# eval_df = pd.concat([sklearn_eval, dp_eval])\n",
    "# eval_df = eval_df.sort_values(by=['F1 Score'], ascending=False).reset_index(drop=True)\n",
    "# eval_df.to_csv(f\"evaluation.csv\", sep=',', encoding='utf-8', index=False)\n",
    "# eval_df"
   ]
  },
  {
   "attachments": {},
   "cell_type": "markdown",
   "metadata": {},
   "source": [
    "## 3. DL_model - ROC - Confusion Matrix\n",
    "\n",
    "DL_model"
   ]
  },
  {
   "cell_type": "code",
   "execution_count": 11,
   "metadata": {},
   "outputs": [],
   "source": [
    "# best_model = sklearn_models[\"KNN\"]\n",
    "# y_predictions = DL_model.predict(test_x)\n",
    "# print(y_predictions)\n",
    "# # p_score = precision_score(test_y, y_predictions, labels=[0, 1], average=None)\n",
    "# # r_score = recall_score(test_y, y_predictions, labels=[0, 1], average=None)\n",
    "# # f1_score_result = f1_score(test_y, y_predictions, labels=[0, 1], average=None)\n",
    "\n",
    "# # p_score, r_score, f1_score_result\n",
    "# y_pred = y_predictions.argmax(axis=-1)\n"
   ]
  },
  {
   "cell_type": "code",
   "execution_count": 12,
   "metadata": {},
   "outputs": [],
   "source": [
    "# (0.975 + 0.967) / 2"
   ]
  },
  {
   "cell_type": "markdown",
   "metadata": {},
   "source": [
    "### 3.1. Confusion Matrix"
   ]
  },
  {
   "cell_type": "code",
   "execution_count": 13,
   "metadata": {},
   "outputs": [],
   "source": [
    "# KNN_cm = eval_df[ eval_df[\"Model\"] == 'KNN' ][\"Confusion Matrix\"].values[0]\n",
    "\n",
    "# cm_array_df = pd.DataFrame(KNN_cm, index=[\"C\", \"L\"], columns=[\"C\", \"L\"])\n",
    "\n",
    "# fig, ax = plt.subplots(figsize=(8,4)) \n",
    "# sns.heatmap(cm_array_df, linewidths=1, annot=True, ax=ax, fmt='g')"
   ]
  },
  {
   "cell_type": "markdown",
   "metadata": {},
   "source": [
    "### 3.3. F1 Score and Confidence correlation"
   ]
  },
  {
   "cell_type": "code",
   "execution_count": 14,
   "metadata": {},
   "outputs": [],
   "source": [
    "def to_labels(y_pred, y_pred_proba, threshold):\n",
    "    '''Return prediction taking confidence threshold into account'''\n",
    "    results = []\n",
    "\n",
    "    for index, predicted_class in enumerate(y_pred):\n",
    "        prediction_probabilities = y_pred_proba[index]\n",
    "        class_prediction_probability = round(prediction_probabilities[np.argmax(prediction_probabilities)], 2)\n",
    "\n",
    "        results.append(predicted_class if class_prediction_probability >= threshold else -1)\n",
    "    \n",
    "    return results\n",
    "\n",
    "# def to_labels(y_pred, y_pred_proba, threshold):\n",
    "#     '''Return prediction taking confidence threshold into account'''\n",
    "#     results = []\n",
    "\n",
    "#     for index, predicted_class in enumerate(y_pred):\n",
    "#         prediction_probabilities = y_pred_proba[index]\n",
    "#         class_prediction_probability = round(prediction_probabilities[np.argmax(prediction_probabilities)], 2)\n",
    "\n",
    "#         if class_prediction_probability >= threshold:\n",
    "#             results.append(predicted_class)\n",
    "#         else:\n",
    "#             results.append(0)\n",
    "    \n",
    "#     return results\n",
    "\n",
    "\n",
    "\n",
    "def calculate_correlation_score_confidence(test_x, test_y):\n",
    "    '''Calculate correlation between Precision score/Recall score/F1 score and confidence threshold'''\n",
    "    y_predictions = DL_model.predict(test_x)\n",
    "    y_predict_proba = y_predictions\n",
    "\n",
    "    thresholds = list(np.arange(0, 1.01, 0.01))\n",
    "\n",
    "    f1_score_results = []\n",
    "\n",
    "    for threshold in thresholds:\n",
    "        true_predictions = to_labels(y_predictions, y_predict_proba, threshold)\n",
    "        f1_s = list(f1_score(test_y, true_predictions, labels=[0, 1], average=None))\n",
    "        all_class_f1 = f1_score(test_y, true_predictions, labels=[0, 1, 2], average=\"weighted\")\n",
    "        f1_s.append(all_class_f1)\n",
    "        f1_score_results.append(f1_s)\n",
    "    \n",
    "    return thresholds, f1_score_results\n"
   ]
  },
  {
   "cell_type": "code",
   "execution_count": 15,
   "metadata": {},
   "outputs": [],
   "source": [
    "# thresholds, f1_scores = calculate_correlation_score_confidence(test_x, test_y)\n",
    "\n",
    "# first_class = [ el[0] for el in f1_scores ]\n",
    "# second_class = [ el[1] for el in f1_scores ]\n",
    "# all_classes = [ el[2] for el in f1_scores ]\n",
    "\n",
    "# fig, ax = plt.subplots(figsize=(8,6))\n",
    "# plt.plot(thresholds, first_class, label = \"F1 Score - Correct class\")\n",
    "# plt.plot(thresholds, second_class, label = \"F1 Score - Incorrect class\")\n",
    "# plt.plot(thresholds, all_classes, label = \"F1 Score - All classes\", linewidth=2.0, color=\"blue\")\n",
    "# plt.legend(loc = 'lower left')\n",
    "# plt.ylim([0.8, 1])\n",
    "# plt.xlim([0.025, 1])\n",
    "# plt.xlabel(\"Threshold\", fontsize = 12)\n",
    "# plt.ylabel(\"Score\", fontsize = 12)\n",
    "# # plt.axvline(thresholds[np.argmin(abs(precision-recall))], color=\"k\", ls = \"--\")\n",
    "# # plt.title(label = F\"Threshold = {thresholds[np.argmin(abs(precision-recall))]:.3f}\", fontsize = 12)\n",
    "# plt.show()"
   ]
  },
  {
   "cell_type": "markdown",
   "metadata": {},
   "source": [
    "### 3.2. ROC curve"
   ]
  },
  {
   "cell_type": "code",
   "execution_count": 16,
   "metadata": {},
   "outputs": [
    {
     "name": "stdout",
     "output_type": "stream",
     "text": [
      "19/19 [==============================] - 0s 5ms/step\n",
      "Optimal Threshold: 0.9154422879219055\n"
     ]
    },
    {
     "data": {
      "image/png": "[encoded data removed]",
      "text/plain": [
       "<Figure size 640x480 with 1 Axes>"
      ]
     },
     "metadata": {},
     "output_type": "display_data"
    }
   ],
   "source": [
    "# calculate the fpr and tpr for all thresholds of the classification\n",
    "probs = DL_model.predict(test_x)\n",
    "preds = probs[:,1]\n",
    "fpr, tpr, threshold = roc_curve(test_y, preds)\n",
    "roc_auc = auc(fpr, tpr)\n",
    "\n",
    "optimal_idx = np.argmax(tpr - fpr)\n",
    "optimal_threshold = threshold[optimal_idx]\n",
    "print(f\"Optimal Threshold: {optimal_threshold}\")\n",
    "\n",
    "# method I: plt\n",
    "plt.plot(fpr, tpr, 'b', label = 'AUC = %0.2f' % roc_auc)\n",
    "plt.plot([0, 1], [0, 1],'r--', label=\"Random Classifier\")\n",
    "plt.legend(loc=4)\n",
    "plt.ylabel('True Positive Rate')\n",
    "plt.xlabel('False Positive Rate')\n",
    "plt.show()"
   ]
  },
  {
   "cell_type": "code",
   "execution_count": null,
   "metadata": {},
   "outputs": [],
   "source": []
  }
 ],
 "metadata": {
  "kernelspec": {
   "display_name": "Python 3.8.13 (conda)",
   "language": "python",
   "name": "python3"
  },
  "language_info": {
   "codemirror_mode": {
    "name": "ipython",
    "version": 3
   },
   "file_extension": ".py",
   "mimetype": "text/x-python",
   "name": "python",
   "nbconvert_exporter": "python",
   "pygments_lexer": "ipython3",
   "version": "3.10.10"
  },
  "orig_nbformat": 4,
  "vscode": {
   "interpreter": {
    "hash": "9260f401923fb5c4108c543a7d176de9733d378b3752e49535ad7c43c2271b65"
   }
  }
 },
 "nbformat": 4,
 "nbformat_minor": 2
}
